{
 "cells": [
  {
   "cell_type": "markdown",
   "source": [
    "# Assignment A0\n",
    "### This project is focused on filling missing values by the help of statistics analysis."
   ],
   "metadata": {}
  },
  {
   "cell_type": "markdown",
   "source": [
    "### We have a set of data formatted in csv named \"FuelConsumptionCo2\" in which gives us some information about vehicales properties to estimate total amount of Co2 produced by each car in average."
   ],
   "metadata": {}
  },
  {
   "cell_type": "markdown",
   "source": [
    "## Part 1 - Csv file overview"
   ],
   "metadata": {}
  },
  {
   "cell_type": "markdown",
   "source": [
    "**head** function shows us first 5 rows of dataframe\n",
    "\n",
    "\n",
    "\n"
   ],
   "metadata": {}
  },
  {
   "cell_type": "code",
   "execution_count": 295,
   "source": [
    "import pandas as pd\n",
    "df = pd.read_csv('FuelConsumptionCo2.csv')\n",
    "df.head()"
   ],
   "outputs": [
    {
     "output_type": "execute_result",
     "data": {
      "text/plain": [
       "   Unnamed: 0  MODELYEAR   MAKE       MODEL VEHICLECLASS  ENGINESIZE  \\\n",
       "0           0       2014  ACURA         ILX      COMPACT         2.0   \n",
       "1           1       2014  ACURA         ILX      COMPACT         2.4   \n",
       "2           2       2014  ACURA  ILX HYBRID      COMPACT         1.5   \n",
       "3           3       2014  ACURA     MDX 4WD  SUV - SMALL         3.5   \n",
       "4           4       2014  ACURA     RDX AWD  SUV - SMALL         3.5   \n",
       "\n",
       "   CYLINDERS TRANSMISSION FUELTYPE  FUELCONSUMPTION_CITY  FUELCONSUMPTION_HWY  \\\n",
       "0        4.0          AS5        Z                   9.9                  6.7   \n",
       "1        4.0           M6        Z                  11.2                  7.7   \n",
       "2        4.0          AV7        Z                   6.0                  5.8   \n",
       "3        6.0          AS6        Z                  12.7                  9.1   \n",
       "4        6.0          AS6        Z                  12.1                  8.7   \n",
       "\n",
       "   FUELCONSUMPTION_COMB  FUELCONSUMPTION_COMB_MPG  CO2EMISSIONS  \n",
       "0                   8.5                        33         196.0  \n",
       "1                   9.6                        29         221.0  \n",
       "2                   5.9                        48         136.0  \n",
       "3                  11.1                        25           NaN  \n",
       "4                  10.6                        27         244.0  "
      ],
      "text/html": [
       "<div>\n",
       "<style scoped>\n",
       "    .dataframe tbody tr th:only-of-type {\n",
       "        vertical-align: middle;\n",
       "    }\n",
       "\n",
       "    .dataframe tbody tr th {\n",
       "        vertical-align: top;\n",
       "    }\n",
       "\n",
       "    .dataframe thead th {\n",
       "        text-align: right;\n",
       "    }\n",
       "</style>\n",
       "<table border=\"1\" class=\"dataframe\">\n",
       "  <thead>\n",
       "    <tr style=\"text-align: right;\">\n",
       "      <th></th>\n",
       "      <th>Unnamed: 0</th>\n",
       "      <th>MODELYEAR</th>\n",
       "      <th>MAKE</th>\n",
       "      <th>MODEL</th>\n",
       "      <th>VEHICLECLASS</th>\n",
       "      <th>ENGINESIZE</th>\n",
       "      <th>CYLINDERS</th>\n",
       "      <th>TRANSMISSION</th>\n",
       "      <th>FUELTYPE</th>\n",
       "      <th>FUELCONSUMPTION_CITY</th>\n",
       "      <th>FUELCONSUMPTION_HWY</th>\n",
       "      <th>FUELCONSUMPTION_COMB</th>\n",
       "      <th>FUELCONSUMPTION_COMB_MPG</th>\n",
       "      <th>CO2EMISSIONS</th>\n",
       "    </tr>\n",
       "  </thead>\n",
       "  <tbody>\n",
       "    <tr>\n",
       "      <th>0</th>\n",
       "      <td>0</td>\n",
       "      <td>2014</td>\n",
       "      <td>ACURA</td>\n",
       "      <td>ILX</td>\n",
       "      <td>COMPACT</td>\n",
       "      <td>2.0</td>\n",
       "      <td>4.0</td>\n",
       "      <td>AS5</td>\n",
       "      <td>Z</td>\n",
       "      <td>9.9</td>\n",
       "      <td>6.7</td>\n",
       "      <td>8.5</td>\n",
       "      <td>33</td>\n",
       "      <td>196.0</td>\n",
       "    </tr>\n",
       "    <tr>\n",
       "      <th>1</th>\n",
       "      <td>1</td>\n",
       "      <td>2014</td>\n",
       "      <td>ACURA</td>\n",
       "      <td>ILX</td>\n",
       "      <td>COMPACT</td>\n",
       "      <td>2.4</td>\n",
       "      <td>4.0</td>\n",
       "      <td>M6</td>\n",
       "      <td>Z</td>\n",
       "      <td>11.2</td>\n",
       "      <td>7.7</td>\n",
       "      <td>9.6</td>\n",
       "      <td>29</td>\n",
       "      <td>221.0</td>\n",
       "    </tr>\n",
       "    <tr>\n",
       "      <th>2</th>\n",
       "      <td>2</td>\n",
       "      <td>2014</td>\n",
       "      <td>ACURA</td>\n",
       "      <td>ILX HYBRID</td>\n",
       "      <td>COMPACT</td>\n",
       "      <td>1.5</td>\n",
       "      <td>4.0</td>\n",
       "      <td>AV7</td>\n",
       "      <td>Z</td>\n",
       "      <td>6.0</td>\n",
       "      <td>5.8</td>\n",
       "      <td>5.9</td>\n",
       "      <td>48</td>\n",
       "      <td>136.0</td>\n",
       "    </tr>\n",
       "    <tr>\n",
       "      <th>3</th>\n",
       "      <td>3</td>\n",
       "      <td>2014</td>\n",
       "      <td>ACURA</td>\n",
       "      <td>MDX 4WD</td>\n",
       "      <td>SUV - SMALL</td>\n",
       "      <td>3.5</td>\n",
       "      <td>6.0</td>\n",
       "      <td>AS6</td>\n",
       "      <td>Z</td>\n",
       "      <td>12.7</td>\n",
       "      <td>9.1</td>\n",
       "      <td>11.1</td>\n",
       "      <td>25</td>\n",
       "      <td>NaN</td>\n",
       "    </tr>\n",
       "    <tr>\n",
       "      <th>4</th>\n",
       "      <td>4</td>\n",
       "      <td>2014</td>\n",
       "      <td>ACURA</td>\n",
       "      <td>RDX AWD</td>\n",
       "      <td>SUV - SMALL</td>\n",
       "      <td>3.5</td>\n",
       "      <td>6.0</td>\n",
       "      <td>AS6</td>\n",
       "      <td>Z</td>\n",
       "      <td>12.1</td>\n",
       "      <td>8.7</td>\n",
       "      <td>10.6</td>\n",
       "      <td>27</td>\n",
       "      <td>244.0</td>\n",
       "    </tr>\n",
       "  </tbody>\n",
       "</table>\n",
       "</div>"
      ]
     },
     "metadata": {},
     "execution_count": 295
    }
   ],
   "metadata": {}
  },
  {
   "cell_type": "markdown",
   "source": [
    "In this line we get rid of the first column that represents the indexes. Dataframe itself handles this so we don't need that"
   ],
   "metadata": {}
  },
  {
   "cell_type": "code",
   "execution_count": 296,
   "source": [
    "df.drop(df.columns[0], axis=1, inplace=True)"
   ],
   "outputs": [],
   "metadata": {}
  },
  {
   "cell_type": "markdown",
   "source": [
    "**tail** function shows us last 5 rows of dataframe"
   ],
   "metadata": {}
  },
  {
   "cell_type": "code",
   "execution_count": 297,
   "source": [
    "df.tail()"
   ],
   "outputs": [
    {
     "output_type": "execute_result",
     "data": {
      "text/plain": [
       "      MODELYEAR   MAKE     MODEL    VEHICLECLASS  ENGINESIZE  CYLINDERS  \\\n",
       "1062       2014  VOLVO  XC60 AWD     SUV - SMALL         3.0        6.0   \n",
       "1063       2014  VOLVO  XC60 AWD     SUV - SMALL         3.2        6.0   \n",
       "1064       2014  VOLVO  XC70 AWD     SUV - SMALL         3.0        6.0   \n",
       "1065       2014  VOLVO  XC70 AWD     SUV - SMALL         3.2        6.0   \n",
       "1066       2014  VOLVO  XC90 AWD  SUV - STANDARD         3.2        6.0   \n",
       "\n",
       "     TRANSMISSION FUELTYPE  FUELCONSUMPTION_CITY  FUELCONSUMPTION_HWY  \\\n",
       "1062          AS6        X                  13.4                  9.8   \n",
       "1063          AS6        X                  13.2                  9.5   \n",
       "1064          AS6        X                  13.4                  9.8   \n",
       "1065          AS6        X                  12.9                  9.3   \n",
       "1066          AS6        X                  14.9                 10.2   \n",
       "\n",
       "      FUELCONSUMPTION_COMB  FUELCONSUMPTION_COMB_MPG  CO2EMISSIONS  \n",
       "1062                  11.8                        24         271.0  \n",
       "1063                  11.5                        25         264.0  \n",
       "1064                  11.8                        24         271.0  \n",
       "1065                  11.3                        25         260.0  \n",
       "1066                  12.8                        22         294.0  "
      ],
      "text/html": [
       "<div>\n",
       "<style scoped>\n",
       "    .dataframe tbody tr th:only-of-type {\n",
       "        vertical-align: middle;\n",
       "    }\n",
       "\n",
       "    .dataframe tbody tr th {\n",
       "        vertical-align: top;\n",
       "    }\n",
       "\n",
       "    .dataframe thead th {\n",
       "        text-align: right;\n",
       "    }\n",
       "</style>\n",
       "<table border=\"1\" class=\"dataframe\">\n",
       "  <thead>\n",
       "    <tr style=\"text-align: right;\">\n",
       "      <th></th>\n",
       "      <th>MODELYEAR</th>\n",
       "      <th>MAKE</th>\n",
       "      <th>MODEL</th>\n",
       "      <th>VEHICLECLASS</th>\n",
       "      <th>ENGINESIZE</th>\n",
       "      <th>CYLINDERS</th>\n",
       "      <th>TRANSMISSION</th>\n",
       "      <th>FUELTYPE</th>\n",
       "      <th>FUELCONSUMPTION_CITY</th>\n",
       "      <th>FUELCONSUMPTION_HWY</th>\n",
       "      <th>FUELCONSUMPTION_COMB</th>\n",
       "      <th>FUELCONSUMPTION_COMB_MPG</th>\n",
       "      <th>CO2EMISSIONS</th>\n",
       "    </tr>\n",
       "  </thead>\n",
       "  <tbody>\n",
       "    <tr>\n",
       "      <th>1062</th>\n",
       "      <td>2014</td>\n",
       "      <td>VOLVO</td>\n",
       "      <td>XC60 AWD</td>\n",
       "      <td>SUV - SMALL</td>\n",
       "      <td>3.0</td>\n",
       "      <td>6.0</td>\n",
       "      <td>AS6</td>\n",
       "      <td>X</td>\n",
       "      <td>13.4</td>\n",
       "      <td>9.8</td>\n",
       "      <td>11.8</td>\n",
       "      <td>24</td>\n",
       "      <td>271.0</td>\n",
       "    </tr>\n",
       "    <tr>\n",
       "      <th>1063</th>\n",
       "      <td>2014</td>\n",
       "      <td>VOLVO</td>\n",
       "      <td>XC60 AWD</td>\n",
       "      <td>SUV - SMALL</td>\n",
       "      <td>3.2</td>\n",
       "      <td>6.0</td>\n",
       "      <td>AS6</td>\n",
       "      <td>X</td>\n",
       "      <td>13.2</td>\n",
       "      <td>9.5</td>\n",
       "      <td>11.5</td>\n",
       "      <td>25</td>\n",
       "      <td>264.0</td>\n",
       "    </tr>\n",
       "    <tr>\n",
       "      <th>1064</th>\n",
       "      <td>2014</td>\n",
       "      <td>VOLVO</td>\n",
       "      <td>XC70 AWD</td>\n",
       "      <td>SUV - SMALL</td>\n",
       "      <td>3.0</td>\n",
       "      <td>6.0</td>\n",
       "      <td>AS6</td>\n",
       "      <td>X</td>\n",
       "      <td>13.4</td>\n",
       "      <td>9.8</td>\n",
       "      <td>11.8</td>\n",
       "      <td>24</td>\n",
       "      <td>271.0</td>\n",
       "    </tr>\n",
       "    <tr>\n",
       "      <th>1065</th>\n",
       "      <td>2014</td>\n",
       "      <td>VOLVO</td>\n",
       "      <td>XC70 AWD</td>\n",
       "      <td>SUV - SMALL</td>\n",
       "      <td>3.2</td>\n",
       "      <td>6.0</td>\n",
       "      <td>AS6</td>\n",
       "      <td>X</td>\n",
       "      <td>12.9</td>\n",
       "      <td>9.3</td>\n",
       "      <td>11.3</td>\n",
       "      <td>25</td>\n",
       "      <td>260.0</td>\n",
       "    </tr>\n",
       "    <tr>\n",
       "      <th>1066</th>\n",
       "      <td>2014</td>\n",
       "      <td>VOLVO</td>\n",
       "      <td>XC90 AWD</td>\n",
       "      <td>SUV - STANDARD</td>\n",
       "      <td>3.2</td>\n",
       "      <td>6.0</td>\n",
       "      <td>AS6</td>\n",
       "      <td>X</td>\n",
       "      <td>14.9</td>\n",
       "      <td>10.2</td>\n",
       "      <td>12.8</td>\n",
       "      <td>22</td>\n",
       "      <td>294.0</td>\n",
       "    </tr>\n",
       "  </tbody>\n",
       "</table>\n",
       "</div>"
      ]
     },
     "metadata": {},
     "execution_count": 297
    }
   ],
   "metadata": {}
  },
  {
   "cell_type": "markdown",
   "source": [
    "**describe** function gives us some statistics properties of each column of dataset"
   ],
   "metadata": {}
  },
  {
   "cell_type": "code",
   "execution_count": 298,
   "source": [
    "df.describe()"
   ],
   "outputs": [
    {
     "output_type": "execute_result",
     "data": {
      "text/plain": [
       "       MODELYEAR   ENGINESIZE    CYLINDERS  FUELCONSUMPTION_CITY  \\\n",
       "count     1067.0  1040.000000  1033.000000           1067.000000   \n",
       "mean      2014.0     3.324038     5.797677             13.296532   \n",
       "std          0.0     1.411400     1.807262              4.101253   \n",
       "min       2014.0     1.000000     3.000000              4.600000   \n",
       "25%       2014.0     2.000000     4.000000             10.250000   \n",
       "50%       2014.0     3.300000     6.000000             12.600000   \n",
       "75%       2014.0     4.200000     8.000000             15.550000   \n",
       "max       2014.0     8.400000    12.000000             30.200000   \n",
       "\n",
       "       FUELCONSUMPTION_HWY  FUELCONSUMPTION_COMB  FUELCONSUMPTION_COMB_MPG  \\\n",
       "count          1067.000000           1067.000000               1067.000000   \n",
       "mean              9.474602             11.580881                 26.441425   \n",
       "std               2.794510              3.485595                  7.468702   \n",
       "min               4.900000              4.700000                 11.000000   \n",
       "25%               7.500000              9.000000                 21.000000   \n",
       "50%               8.800000             10.900000                 26.000000   \n",
       "75%              10.850000             13.350000                 31.000000   \n",
       "max              20.500000             25.800000                 60.000000   \n",
       "\n",
       "       CO2EMISSIONS  \n",
       "count    964.000000  \n",
       "mean     256.741701  \n",
       "std       63.265308  \n",
       "min      108.000000  \n",
       "25%      209.000000  \n",
       "50%      251.000000  \n",
       "75%      294.000000  \n",
       "max      437.000000  "
      ],
      "text/html": [
       "<div>\n",
       "<style scoped>\n",
       "    .dataframe tbody tr th:only-of-type {\n",
       "        vertical-align: middle;\n",
       "    }\n",
       "\n",
       "    .dataframe tbody tr th {\n",
       "        vertical-align: top;\n",
       "    }\n",
       "\n",
       "    .dataframe thead th {\n",
       "        text-align: right;\n",
       "    }\n",
       "</style>\n",
       "<table border=\"1\" class=\"dataframe\">\n",
       "  <thead>\n",
       "    <tr style=\"text-align: right;\">\n",
       "      <th></th>\n",
       "      <th>MODELYEAR</th>\n",
       "      <th>ENGINESIZE</th>\n",
       "      <th>CYLINDERS</th>\n",
       "      <th>FUELCONSUMPTION_CITY</th>\n",
       "      <th>FUELCONSUMPTION_HWY</th>\n",
       "      <th>FUELCONSUMPTION_COMB</th>\n",
       "      <th>FUELCONSUMPTION_COMB_MPG</th>\n",
       "      <th>CO2EMISSIONS</th>\n",
       "    </tr>\n",
       "  </thead>\n",
       "  <tbody>\n",
       "    <tr>\n",
       "      <th>count</th>\n",
       "      <td>1067.0</td>\n",
       "      <td>1040.000000</td>\n",
       "      <td>1033.000000</td>\n",
       "      <td>1067.000000</td>\n",
       "      <td>1067.000000</td>\n",
       "      <td>1067.000000</td>\n",
       "      <td>1067.000000</td>\n",
       "      <td>964.000000</td>\n",
       "    </tr>\n",
       "    <tr>\n",
       "      <th>mean</th>\n",
       "      <td>2014.0</td>\n",
       "      <td>3.324038</td>\n",
       "      <td>5.797677</td>\n",
       "      <td>13.296532</td>\n",
       "      <td>9.474602</td>\n",
       "      <td>11.580881</td>\n",
       "      <td>26.441425</td>\n",
       "      <td>256.741701</td>\n",
       "    </tr>\n",
       "    <tr>\n",
       "      <th>std</th>\n",
       "      <td>0.0</td>\n",
       "      <td>1.411400</td>\n",
       "      <td>1.807262</td>\n",
       "      <td>4.101253</td>\n",
       "      <td>2.794510</td>\n",
       "      <td>3.485595</td>\n",
       "      <td>7.468702</td>\n",
       "      <td>63.265308</td>\n",
       "    </tr>\n",
       "    <tr>\n",
       "      <th>min</th>\n",
       "      <td>2014.0</td>\n",
       "      <td>1.000000</td>\n",
       "      <td>3.000000</td>\n",
       "      <td>4.600000</td>\n",
       "      <td>4.900000</td>\n",
       "      <td>4.700000</td>\n",
       "      <td>11.000000</td>\n",
       "      <td>108.000000</td>\n",
       "    </tr>\n",
       "    <tr>\n",
       "      <th>25%</th>\n",
       "      <td>2014.0</td>\n",
       "      <td>2.000000</td>\n",
       "      <td>4.000000</td>\n",
       "      <td>10.250000</td>\n",
       "      <td>7.500000</td>\n",
       "      <td>9.000000</td>\n",
       "      <td>21.000000</td>\n",
       "      <td>209.000000</td>\n",
       "    </tr>\n",
       "    <tr>\n",
       "      <th>50%</th>\n",
       "      <td>2014.0</td>\n",
       "      <td>3.300000</td>\n",
       "      <td>6.000000</td>\n",
       "      <td>12.600000</td>\n",
       "      <td>8.800000</td>\n",
       "      <td>10.900000</td>\n",
       "      <td>26.000000</td>\n",
       "      <td>251.000000</td>\n",
       "    </tr>\n",
       "    <tr>\n",
       "      <th>75%</th>\n",
       "      <td>2014.0</td>\n",
       "      <td>4.200000</td>\n",
       "      <td>8.000000</td>\n",
       "      <td>15.550000</td>\n",
       "      <td>10.850000</td>\n",
       "      <td>13.350000</td>\n",
       "      <td>31.000000</td>\n",
       "      <td>294.000000</td>\n",
       "    </tr>\n",
       "    <tr>\n",
       "      <th>max</th>\n",
       "      <td>2014.0</td>\n",
       "      <td>8.400000</td>\n",
       "      <td>12.000000</td>\n",
       "      <td>30.200000</td>\n",
       "      <td>20.500000</td>\n",
       "      <td>25.800000</td>\n",
       "      <td>60.000000</td>\n",
       "      <td>437.000000</td>\n",
       "    </tr>\n",
       "  </tbody>\n",
       "</table>\n",
       "</div>"
      ]
     },
     "metadata": {},
     "execution_count": 298
    }
   ],
   "metadata": {}
  },
  {
   "cell_type": "markdown",
   "source": [
    "## Part 2 - Types of each column"
   ],
   "metadata": {}
  },
  {
   "cell_type": "markdown",
   "source": [
    "**info** function gives us information about type of each column and also the number of null or NaN values in each of them."
   ],
   "metadata": {}
  },
  {
   "cell_type": "code",
   "execution_count": 299,
   "source": [
    "df.info()"
   ],
   "outputs": [
    {
     "output_type": "stream",
     "name": "stdout",
     "text": [
      "<class 'pandas.core.frame.DataFrame'>\n",
      "RangeIndex: 1067 entries, 0 to 1066\n",
      "Data columns (total 13 columns):\n",
      " #   Column                    Non-Null Count  Dtype  \n",
      "---  ------                    --------------  -----  \n",
      " 0   MODELYEAR                 1067 non-null   int64  \n",
      " 1   MAKE                      1067 non-null   object \n",
      " 2   MODEL                     1058 non-null   object \n",
      " 3   VEHICLECLASS              1067 non-null   object \n",
      " 4   ENGINESIZE                1040 non-null   float64\n",
      " 5   CYLINDERS                 1033 non-null   float64\n",
      " 6   TRANSMISSION              1067 non-null   object \n",
      " 7   FUELTYPE                  996 non-null    object \n",
      " 8   FUELCONSUMPTION_CITY      1067 non-null   float64\n",
      " 9   FUELCONSUMPTION_HWY       1067 non-null   float64\n",
      " 10  FUELCONSUMPTION_COMB      1067 non-null   float64\n",
      " 11  FUELCONSUMPTION_COMB_MPG  1067 non-null   int64  \n",
      " 12  CO2EMISSIONS              964 non-null    float64\n",
      "dtypes: float64(6), int64(2), object(5)\n",
      "memory usage: 108.5+ KB\n"
     ]
    }
   ],
   "metadata": {}
  },
  {
   "cell_type": "markdown",
   "source": [
    "mapping FUELTYPE values into numbers in range [0,3]"
   ],
   "metadata": {}
  },
  {
   "cell_type": "code",
   "execution_count": 300,
   "source": [
    "letter_to_num_map = {'X': 0, 'E': 1, 'D': 2, 'Z': 3}\n",
    "df.replace({'FUELTYPE': letter_to_num_map}, inplace=True)"
   ],
   "outputs": [],
   "metadata": {}
  },
  {
   "cell_type": "markdown",
   "source": [
    "## Part 3 - Finding & filling NaN values"
   ],
   "metadata": {}
  },
  {
   "cell_type": "markdown",
   "source": [
    "Count NaN values in each column"
   ],
   "metadata": {}
  },
  {
   "cell_type": "code",
   "execution_count": 301,
   "source": [
    "column_sum = df.isna().sum()\n",
    "print(column_sum)"
   ],
   "outputs": [
    {
     "output_type": "stream",
     "name": "stdout",
     "text": [
      "MODELYEAR                     0\n",
      "MAKE                          0\n",
      "MODEL                         9\n",
      "VEHICLECLASS                  0\n",
      "ENGINESIZE                   27\n",
      "CYLINDERS                    34\n",
      "TRANSMISSION                  0\n",
      "FUELTYPE                     71\n",
      "FUELCONSUMPTION_CITY          0\n",
      "FUELCONSUMPTION_HWY           0\n",
      "FUELCONSUMPTION_COMB          0\n",
      "FUELCONSUMPTION_COMB_MPG      0\n",
      "CO2EMISSIONS                103\n",
      "dtype: int64\n"
     ]
    }
   ],
   "metadata": {}
  },
  {
   "cell_type": "markdown",
   "source": [
    "Get column which has NaN values"
   ],
   "metadata": {}
  },
  {
   "cell_type": "code",
   "execution_count": 302,
   "source": [
    "import numpy as np\n",
    "columns_with_nan = column_sum.index[np.where(column_sum > 0)[0]]\n",
    "print(list(columns_with_nan))"
   ],
   "outputs": [
    {
     "output_type": "stream",
     "name": "stdout",
     "text": [
      "['MODEL', 'ENGINESIZE', 'CYLINDERS', 'FUELTYPE', 'CO2EMISSIONS']\n"
     ]
    }
   ],
   "metadata": {}
  },
  {
   "cell_type": "markdown",
   "source": [
    "Filling NaN values with mean except for the rows that has missing target values.<br>\n",
    "**pros**: No loss of data, we can continue analysis on other columns of the row and the actuall cell which was NaN <br>\n",
    "**cons**: inaccuracy, dataset may have some outliers that can significantly effect mean value."
   ],
   "metadata": {}
  },
  {
   "cell_type": "code",
   "execution_count": 303,
   "source": [
    "df.loc[~df['CO2EMISSIONS'].isna() & df['ENGINESIZE'].isna(), 'ENGINESIZE'] = df['ENGINESIZE'].mean()\n",
    "df.loc[~df['CO2EMISSIONS'].isna() & df['CYLINDERS'].isna(), 'CYLINDERS'] = int(df['CYLINDERS'].mean())\n",
    "df.loc[~df['CO2EMISSIONS'].isna() & df['MODEL'].isna(), 'MODEL'] = df['MODEL'].mode()"
   ],
   "outputs": [],
   "metadata": {}
  },
  {
   "cell_type": "markdown",
   "source": [
    "Exclude rows with NaN target values"
   ],
   "metadata": {}
  },
  {
   "cell_type": "code",
   "execution_count": 304,
   "source": [
    "df_with_target_nan = df.loc[df['CO2EMISSIONS'].isna()]\n",
    "df.drop(df_with_target_nan.index, inplace=True)"
   ],
   "outputs": [],
   "metadata": {}
  },
  {
   "cell_type": "markdown",
   "source": [
    "## Part 4 - Filtering"
   ],
   "metadata": {}
  },
  {
   "cell_type": "markdown",
   "source": [
    "a nice neat wrapper to calculate execution time of a function"
   ],
   "metadata": {}
  },
  {
   "cell_type": "code",
   "execution_count": 305,
   "source": [
    "import time \n",
    "def execution_time_wrapper(func):\n",
    "    def inner(*args, **kwargs):\n",
    "        p_tic = time.perf_counter()\n",
    "        tic = time.time()\n",
    "\n",
    "        result = func(*args, **kwargs)\n",
    "\n",
    "        toc = time.time()\n",
    "        p_toc = time.perf_counter()\n",
    "        print(f'Result: {result}')\n",
    "        print(f'Compute time: {round(1000 * (toc - tic), 6)}ms')\n",
    "        print(f'Compute time (cpu) : {round(1000 * (p_toc - p_tic), 6)}ms')\n",
    "\n",
    "    return inner"
   ],
   "outputs": [],
   "metadata": {}
  },
  {
   "cell_type": "code",
   "execution_count": 306,
   "source": [
    "@execution_time_wrapper\n",
    "def compute_mean_vectorized(s: pd.Series):\n",
    "    return s.mean()"
   ],
   "outputs": [],
   "metadata": {}
  },
  {
   "cell_type": "markdown",
   "source": [
    "mean fuel consumption city for vehicles that have more than 240 CO2 emissions."
   ],
   "metadata": {}
  },
  {
   "cell_type": "code",
   "execution_count": 307,
   "source": [
    "compute_mean_vectorized(df.loc[df['CO2EMISSIONS'] > 240, 'FUELCONSUMPTION_CITY'])"
   ],
   "outputs": [
    {
     "output_type": "stream",
     "name": "stdout",
     "text": [
      "Result: 16.035272045028144\n",
      "Compute time: 0.282049ms\n",
      "Compute time (cpu) : 0.283152ms\n"
     ]
    }
   ],
   "metadata": {}
  },
  {
   "cell_type": "markdown",
   "source": [
    "mean fuel consumption for vehicles that have less than 300 CO2 emissions."
   ],
   "metadata": {}
  },
  {
   "cell_type": "code",
   "execution_count": 308,
   "source": [
    "compute_mean_vectorized(df.loc[df['CO2EMISSIONS'] < 300, 'FUELCONSUMPTION_CITY'])"
   ],
   "outputs": [
    {
     "output_type": "stream",
     "name": "stdout",
     "text": [
      "Result: 11.82977303070761\n",
      "Compute time: 0.214338ms\n",
      "Compute time (cpu) : 0.215153ms\n"
     ]
    }
   ],
   "metadata": {}
  },
  {
   "cell_type": "markdown",
   "source": [
    "## Part 5 - previus section without vectorization"
   ],
   "metadata": {}
  },
  {
   "cell_type": "code",
   "execution_count": 309,
   "source": [
    "@execution_time_wrapper\n",
    "def compute_mean_loop(s: pd.Series):\n",
    "    sum = 0\n",
    "    for x in s:\n",
    "        sum += x \n",
    "    return sum/s.size"
   ],
   "outputs": [],
   "metadata": {}
  },
  {
   "cell_type": "code",
   "execution_count": 310,
   "source": [
    "compute_mean_vectorized(df.loc[df['CO2EMISSIONS'] > 240, 'FUELCONSUMPTION_CITY'])"
   ],
   "outputs": [
    {
     "output_type": "stream",
     "name": "stdout",
     "text": [
      "Result: 16.035272045028144\n",
      "Compute time: 0.115871ms\n",
      "Compute time (cpu) : 0.116429ms\n"
     ]
    }
   ],
   "metadata": {}
  },
  {
   "cell_type": "code",
   "execution_count": 311,
   "source": [
    "compute_mean_vectorized(df.loc[df['CO2EMISSIONS'] < 300, 'FUELCONSUMPTION_CITY'])"
   ],
   "outputs": [
    {
     "output_type": "stream",
     "name": "stdout",
     "text": [
      "Result: 11.82977303070761\n",
      "Compute time: 0.116825ms\n",
      "Compute time (cpu) : 0.117684ms\n"
     ]
    }
   ],
   "metadata": {}
  },
  {
   "cell_type": "markdown",
   "source": [
    "We see that vectorization is 3 times faster"
   ],
   "metadata": {}
  },
  {
   "cell_type": "markdown",
   "source": [
    "## Part 6 - Plotting"
   ],
   "metadata": {}
  },
  {
   "cell_type": "code",
   "execution_count": 312,
   "source": [
    "df.hist(bins=30, figsize=(15,10))"
   ],
   "outputs": [
    {
     "output_type": "execute_result",
     "data": {
      "text/plain": [
       "array([[<AxesSubplot:title={'center':'MODELYEAR'}>,\n",
       "        <AxesSubplot:title={'center':'ENGINESIZE'}>,\n",
       "        <AxesSubplot:title={'center':'CYLINDERS'}>],\n",
       "       [<AxesSubplot:title={'center':'FUELTYPE'}>,\n",
       "        <AxesSubplot:title={'center':'FUELCONSUMPTION_CITY'}>,\n",
       "        <AxesSubplot:title={'center':'FUELCONSUMPTION_HWY'}>],\n",
       "       [<AxesSubplot:title={'center':'FUELCONSUMPTION_COMB'}>,\n",
       "        <AxesSubplot:title={'center':'FUELCONSUMPTION_COMB_MPG'}>,\n",
       "        <AxesSubplot:title={'center':'CO2EMISSIONS'}>]], dtype=object)"
      ]
     },
     "metadata": {},
     "execution_count": 312
    },
    {
     "output_type": "display_data",
     "data": {
      "text/plain": [
       "<Figure size 1080x720 with 9 Axes>"
      ],
      "image/png": "[encoded data removed]"
     },
     "metadata": {
      "needs_background": "light"
     }
    }
   ],
   "metadata": {}
  },
  {
   "cell_type": "code",
   "execution_count": 313,
   "source": [
    "df.groupby('MAKE').size().plot(kind='bar', figsize=(15,10))"
   ],
   "outputs": [
    {
     "output_type": "execute_result",
     "data": {
      "text/plain": [
       "<AxesSubplot:xlabel='MAKE'>"
      ]
     },
     "metadata": {},
     "execution_count": 313
    },
    {
     "output_type": "display_data",
     "data": {
      "text/plain": [
       "<Figure size 1080x720 with 1 Axes>"
      ],
      "image/png": "[encoded data removed]"
     },
     "metadata": {
      "needs_background": "light"
     }
    }
   ],
   "metadata": {}
  },
  {
   "cell_type": "code",
   "execution_count": 314,
   "source": [
    "df.groupby('VEHICLECLASS').size().plot(kind='bar', figsize=(15,10))"
   ],
   "outputs": [
    {
     "output_type": "execute_result",
     "data": {
      "text/plain": [
       "<AxesSubplot:xlabel='VEHICLECLASS'>"
      ]
     },
     "metadata": {},
     "execution_count": 314
    },
    {
     "output_type": "display_data",
     "data": {
      "text/plain": [
       "<Figure size 1080x720 with 1 Axes>"
      ],
      "image/png": "[encoded data removed]"
     },
     "metadata": {
      "needs_background": "light"
     }
    }
   ],
   "metadata": {}
  },
  {
   "cell_type": "code",
   "execution_count": 315,
   "source": [
    "df.groupby('TRANSMISSION').size().plot(kind='bar', figsize=(15,10))"
   ],
   "outputs": [
    {
     "output_type": "execute_result",
     "data": {
      "text/plain": [
       "<AxesSubplot:xlabel='TRANSMISSION'>"
      ]
     },
     "metadata": {},
     "execution_count": 315
    },
    {
     "output_type": "display_data",
     "data": {
      "text/plain": [
       "<Figure size 1080x720 with 1 Axes>"
      ],
      "image/png": "[encoded data removed]"
     },
     "metadata": {
      "needs_background": "light"
     }
    }
   ],
   "metadata": {}
  },
  {
   "cell_type": "markdown",
   "source": [
    "## Part 7 - Normalization"
   ],
   "metadata": {}
  },
  {
   "cell_type": "markdown",
   "source": [
    "dropping the non numeric features"
   ],
   "metadata": {}
  },
  {
   "cell_type": "code",
   "execution_count": 316,
   "source": [
    "df.drop(['MAKE', 'MODEL', 'VEHICLECLASS', 'FUELTYPE', 'TRANSMISSION'], axis=1, inplace=True)\n",
    "df"
   ],
   "outputs": [
    {
     "output_type": "execute_result",
     "data": {
      "text/plain": [
       "      MODELYEAR  ENGINESIZE  CYLINDERS  FUELCONSUMPTION_CITY  \\\n",
       "0          2014         2.0        4.0                   9.9   \n",
       "1          2014         2.4        4.0                  11.2   \n",
       "2          2014         1.5        4.0                   6.0   \n",
       "4          2014         3.5        6.0                  12.1   \n",
       "5          2014         3.5        6.0                  11.9   \n",
       "...         ...         ...        ...                   ...   \n",
       "1062       2014         3.0        6.0                  13.4   \n",
       "1063       2014         3.2        6.0                  13.2   \n",
       "1064       2014         3.0        6.0                  13.4   \n",
       "1065       2014         3.2        6.0                  12.9   \n",
       "1066       2014         3.2        6.0                  14.9   \n",
       "\n",
       "      FUELCONSUMPTION_HWY  FUELCONSUMPTION_COMB  FUELCONSUMPTION_COMB_MPG  \\\n",
       "0                     6.7                   8.5                        33   \n",
       "1                     7.7                   9.6                        29   \n",
       "2                     5.8                   5.9                        48   \n",
       "4                     8.7                  10.6                        27   \n",
       "5                     7.7                  10.0                        28   \n",
       "...                   ...                   ...                       ...   \n",
       "1062                  9.8                  11.8                        24   \n",
       "1063                  9.5                  11.5                        25   \n",
       "1064                  9.8                  11.8                        24   \n",
       "1065                  9.3                  11.3                        25   \n",
       "1066                 10.2                  12.8                        22   \n",
       "\n",
       "      CO2EMISSIONS  \n",
       "0            196.0  \n",
       "1            221.0  \n",
       "2            136.0  \n",
       "4            244.0  \n",
       "5            230.0  \n",
       "...            ...  \n",
       "1062         271.0  \n",
       "1063         264.0  \n",
       "1064         271.0  \n",
       "1065         260.0  \n",
       "1066         294.0  \n",
       "\n",
       "[964 rows x 8 columns]"
      ],
      "text/html": [
       "<div>\n",
       "<style scoped>\n",
       "    .dataframe tbody tr th:only-of-type {\n",
       "        vertical-align: middle;\n",
       "    }\n",
       "\n",
       "    .dataframe tbody tr th {\n",
       "        vertical-align: top;\n",
       "    }\n",
       "\n",
       "    .dataframe thead th {\n",
       "        text-align: right;\n",
       "    }\n",
       "</style>\n",
       "<table border=\"1\" class=\"dataframe\">\n",
       "  <thead>\n",
       "    <tr style=\"text-align: right;\">\n",
       "      <th></th>\n",
       "      <th>MODELYEAR</th>\n",
       "      <th>ENGINESIZE</th>\n",
       "      <th>CYLINDERS</th>\n",
       "      <th>FUELCONSUMPTION_CITY</th>\n",
       "      <th>FUELCONSUMPTION_HWY</th>\n",
       "      <th>FUELCONSUMPTION_COMB</th>\n",
       "      <th>FUELCONSUMPTION_COMB_MPG</th>\n",
       "      <th>CO2EMISSIONS</th>\n",
       "    </tr>\n",
       "  </thead>\n",
       "  <tbody>\n",
       "    <tr>\n",
       "      <th>0</th>\n",
       "      <td>2014</td>\n",
       "      <td>2.0</td>\n",
       "      <td>4.0</td>\n",
       "      <td>9.9</td>\n",
       "      <td>6.7</td>\n",
       "      <td>8.5</td>\n",
       "      <td>33</td>\n",
       "      <td>196.0</td>\n",
       "    </tr>\n",
       "    <tr>\n",
       "      <th>1</th>\n",
       "      <td>2014</td>\n",
       "      <td>2.4</td>\n",
       "      <td>4.0</td>\n",
       "      <td>11.2</td>\n",
       "      <td>7.7</td>\n",
       "      <td>9.6</td>\n",
       "      <td>29</td>\n",
       "      <td>221.0</td>\n",
       "    </tr>\n",
       "    <tr>\n",
       "      <th>2</th>\n",
       "      <td>2014</td>\n",
       "      <td>1.5</td>\n",
       "      <td>4.0</td>\n",
       "      <td>6.0</td>\n",
       "      <td>5.8</td>\n",
       "      <td>5.9</td>\n",
       "      <td>48</td>\n",
       "      <td>136.0</td>\n",
       "    </tr>\n",
       "    <tr>\n",
       "      <th>4</th>\n",
       "      <td>2014</td>\n",
       "      <td>3.5</td>\n",
       "      <td>6.0</td>\n",
       "      <td>12.1</td>\n",
       "      <td>8.7</td>\n",
       "      <td>10.6</td>\n",
       "      <td>27</td>\n",
       "      <td>244.0</td>\n",
       "    </tr>\n",
       "    <tr>\n",
       "      <th>5</th>\n",
       "      <td>2014</td>\n",
       "      <td>3.5</td>\n",
       "      <td>6.0</td>\n",
       "      <td>11.9</td>\n",
       "      <td>7.7</td>\n",
       "      <td>10.0</td>\n",
       "      <td>28</td>\n",
       "      <td>230.0</td>\n",
       "    </tr>\n",
       "    <tr>\n",
       "      <th>...</th>\n",
       "      <td>...</td>\n",
       "      <td>...</td>\n",
       "      <td>...</td>\n",
       "      <td>...</td>\n",
       "      <td>...</td>\n",
       "      <td>...</td>\n",
       "      <td>...</td>\n",
       "      <td>...</td>\n",
       "    </tr>\n",
       "    <tr>\n",
       "      <th>1062</th>\n",
       "      <td>2014</td>\n",
       "      <td>3.0</td>\n",
       "      <td>6.0</td>\n",
       "      <td>13.4</td>\n",
       "      <td>9.8</td>\n",
       "      <td>11.8</td>\n",
       "      <td>24</td>\n",
       "      <td>271.0</td>\n",
       "    </tr>\n",
       "    <tr>\n",
       "      <th>1063</th>\n",
       "      <td>2014</td>\n",
       "      <td>3.2</td>\n",
       "      <td>6.0</td>\n",
       "      <td>13.2</td>\n",
       "      <td>9.5</td>\n",
       "      <td>11.5</td>\n",
       "      <td>25</td>\n",
       "      <td>264.0</td>\n",
       "    </tr>\n",
       "    <tr>\n",
       "      <th>1064</th>\n",
       "      <td>2014</td>\n",
       "      <td>3.0</td>\n",
       "      <td>6.0</td>\n",
       "      <td>13.4</td>\n",
       "      <td>9.8</td>\n",
       "      <td>11.8</td>\n",
       "      <td>24</td>\n",
       "      <td>271.0</td>\n",
       "    </tr>\n",
       "    <tr>\n",
       "      <th>1065</th>\n",
       "      <td>2014</td>\n",
       "      <td>3.2</td>\n",
       "      <td>6.0</td>\n",
       "      <td>12.9</td>\n",
       "      <td>9.3</td>\n",
       "      <td>11.3</td>\n",
       "      <td>25</td>\n",
       "      <td>260.0</td>\n",
       "    </tr>\n",
       "    <tr>\n",
       "      <th>1066</th>\n",
       "      <td>2014</td>\n",
       "      <td>3.2</td>\n",
       "      <td>6.0</td>\n",
       "      <td>14.9</td>\n",
       "      <td>10.2</td>\n",
       "      <td>12.8</td>\n",
       "      <td>22</td>\n",
       "      <td>294.0</td>\n",
       "    </tr>\n",
       "  </tbody>\n",
       "</table>\n",
       "<p>964 rows × 8 columns</p>\n",
       "</div>"
      ]
     },
     "metadata": {},
     "execution_count": 316
    }
   ],
   "metadata": {}
  },
  {
   "cell_type": "markdown",
   "source": [
    "Normalize data by dividing all numeric data with corresponding standard deviation and save prior factors for later (denormalization proces)"
   ],
   "metadata": {}
  },
  {
   "cell_type": "code",
   "execution_count": 317,
   "source": [
    "prior_factors = {}\n",
    "def init_factors(x):\n",
    "    prior_factors[x.name] = (x.mean(), x.std())\n",
    "\n",
    "df.iloc[:,1:].apply(init_factors, axis=0)\n",
    "df.iloc[:,1:] = df.iloc[:,1:].apply(lambda x: (x-x.mean())/ x.std(), axis=0)\n",
    "df"
   ],
   "outputs": [
    {
     "output_type": "execute_result",
     "data": {
      "text/plain": [
       "      MODELYEAR  ENGINESIZE  CYLINDERS  FUELCONSUMPTION_CITY  \\\n",
       "0          2014   -0.973622  -1.006902             -0.833605   \n",
       "1          2014   -0.683744  -1.006902             -0.519842   \n",
       "2          2014   -1.335970  -1.006902             -1.774893   \n",
       "4          2014    0.113422   0.113945             -0.302621   \n",
       "5          2014    0.113422   0.113945             -0.350893   \n",
       "...         ...         ...        ...                   ...   \n",
       "1062       2014   -0.248926   0.113945              0.011141   \n",
       "1063       2014   -0.103987   0.113945             -0.037130   \n",
       "1064       2014   -0.248926   0.113945              0.011141   \n",
       "1065       2014   -0.103987   0.113945             -0.109537   \n",
       "1066       2014   -0.103987   0.113945              0.373175   \n",
       "\n",
       "      FUELCONSUMPTION_HWY  FUELCONSUMPTION_COMB  FUELCONSUMPTION_COMB_MPG  \\\n",
       "0               -0.994870             -0.888216                  0.886286   \n",
       "1               -0.641939             -0.576247                  0.352882   \n",
       "2               -1.312508             -1.625596                  2.886552   \n",
       "4               -0.289008             -0.292640                  0.086180   \n",
       "5               -0.641939             -0.462804                  0.219531   \n",
       "...                   ...                   ...                       ...   \n",
       "1062             0.099216              0.047690                 -0.313873   \n",
       "1063            -0.006663             -0.037393                 -0.180522   \n",
       "1064             0.099216              0.047690                 -0.313873   \n",
       "1065            -0.077249             -0.094114                 -0.180522   \n",
       "1066             0.240388              0.331297                 -0.580575   \n",
       "\n",
       "      CO2EMISSIONS  \n",
       "0        -0.960111  \n",
       "1        -0.564949  \n",
       "2        -1.908498  \n",
       "4        -0.201401  \n",
       "5        -0.422691  \n",
       "...            ...  \n",
       "1062      0.225373  \n",
       "1063      0.114728  \n",
       "1064      0.225373  \n",
       "1065      0.051502  \n",
       "1066      0.588921  \n",
       "\n",
       "[964 rows x 8 columns]"
      ],
      "text/html": [
       "<div>\n",
       "<style scoped>\n",
       "    .dataframe tbody tr th:only-of-type {\n",
       "        vertical-align: middle;\n",
       "    }\n",
       "\n",
       "    .dataframe tbody tr th {\n",
       "        vertical-align: top;\n",
       "    }\n",
       "\n",
       "    .dataframe thead th {\n",
       "        text-align: right;\n",
       "    }\n",
       "</style>\n",
       "<table border=\"1\" class=\"dataframe\">\n",
       "  <thead>\n",
       "    <tr style=\"text-align: right;\">\n",
       "      <th></th>\n",
       "      <th>MODELYEAR</th>\n",
       "      <th>ENGINESIZE</th>\n",
       "      <th>CYLINDERS</th>\n",
       "      <th>FUELCONSUMPTION_CITY</th>\n",
       "      <th>FUELCONSUMPTION_HWY</th>\n",
       "      <th>FUELCONSUMPTION_COMB</th>\n",
       "      <th>FUELCONSUMPTION_COMB_MPG</th>\n",
       "      <th>CO2EMISSIONS</th>\n",
       "    </tr>\n",
       "  </thead>\n",
       "  <tbody>\n",
       "    <tr>\n",
       "      <th>0</th>\n",
       "      <td>2014</td>\n",
       "      <td>-0.973622</td>\n",
       "      <td>-1.006902</td>\n",
       "      <td>-0.833605</td>\n",
       "      <td>-0.994870</td>\n",
       "      <td>-0.888216</td>\n",
       "      <td>0.886286</td>\n",
       "      <td>-0.960111</td>\n",
       "    </tr>\n",
       "    <tr>\n",
       "      <th>1</th>\n",
       "      <td>2014</td>\n",
       "      <td>-0.683744</td>\n",
       "      <td>-1.006902</td>\n",
       "      <td>-0.519842</td>\n",
       "      <td>-0.641939</td>\n",
       "      <td>-0.576247</td>\n",
       "      <td>0.352882</td>\n",
       "      <td>-0.564949</td>\n",
       "    </tr>\n",
       "    <tr>\n",
       "      <th>2</th>\n",
       "      <td>2014</td>\n",
       "      <td>-1.335970</td>\n",
       "      <td>-1.006902</td>\n",
       "      <td>-1.774893</td>\n",
       "      <td>-1.312508</td>\n",
       "      <td>-1.625596</td>\n",
       "      <td>2.886552</td>\n",
       "      <td>-1.908498</td>\n",
       "    </tr>\n",
       "    <tr>\n",
       "      <th>4</th>\n",
       "      <td>2014</td>\n",
       "      <td>0.113422</td>\n",
       "      <td>0.113945</td>\n",
       "      <td>-0.302621</td>\n",
       "      <td>-0.289008</td>\n",
       "      <td>-0.292640</td>\n",
       "      <td>0.086180</td>\n",
       "      <td>-0.201401</td>\n",
       "    </tr>\n",
       "    <tr>\n",
       "      <th>5</th>\n",
       "      <td>2014</td>\n",
       "      <td>0.113422</td>\n",
       "      <td>0.113945</td>\n",
       "      <td>-0.350893</td>\n",
       "      <td>-0.641939</td>\n",
       "      <td>-0.462804</td>\n",
       "      <td>0.219531</td>\n",
       "      <td>-0.422691</td>\n",
       "    </tr>\n",
       "    <tr>\n",
       "      <th>...</th>\n",
       "      <td>...</td>\n",
       "      <td>...</td>\n",
       "      <td>...</td>\n",
       "      <td>...</td>\n",
       "      <td>...</td>\n",
       "      <td>...</td>\n",
       "      <td>...</td>\n",
       "      <td>...</td>\n",
       "    </tr>\n",
       "    <tr>\n",
       "      <th>1062</th>\n",
       "      <td>2014</td>\n",
       "      <td>-0.248926</td>\n",
       "      <td>0.113945</td>\n",
       "      <td>0.011141</td>\n",
       "      <td>0.099216</td>\n",
       "      <td>0.047690</td>\n",
       "      <td>-0.313873</td>\n",
       "      <td>0.225373</td>\n",
       "    </tr>\n",
       "    <tr>\n",
       "      <th>1063</th>\n",
       "      <td>2014</td>\n",
       "      <td>-0.103987</td>\n",
       "      <td>0.113945</td>\n",
       "      <td>-0.037130</td>\n",
       "      <td>-0.006663</td>\n",
       "      <td>-0.037393</td>\n",
       "      <td>-0.180522</td>\n",
       "      <td>0.114728</td>\n",
       "    </tr>\n",
       "    <tr>\n",
       "      <th>1064</th>\n",
       "      <td>2014</td>\n",
       "      <td>-0.248926</td>\n",
       "      <td>0.113945</td>\n",
       "      <td>0.011141</td>\n",
       "      <td>0.099216</td>\n",
       "      <td>0.047690</td>\n",
       "      <td>-0.313873</td>\n",
       "      <td>0.225373</td>\n",
       "    </tr>\n",
       "    <tr>\n",
       "      <th>1065</th>\n",
       "      <td>2014</td>\n",
       "      <td>-0.103987</td>\n",
       "      <td>0.113945</td>\n",
       "      <td>-0.109537</td>\n",
       "      <td>-0.077249</td>\n",
       "      <td>-0.094114</td>\n",
       "      <td>-0.180522</td>\n",
       "      <td>0.051502</td>\n",
       "    </tr>\n",
       "    <tr>\n",
       "      <th>1066</th>\n",
       "      <td>2014</td>\n",
       "      <td>-0.103987</td>\n",
       "      <td>0.113945</td>\n",
       "      <td>0.373175</td>\n",
       "      <td>0.240388</td>\n",
       "      <td>0.331297</td>\n",
       "      <td>-0.580575</td>\n",
       "      <td>0.588921</td>\n",
       "    </tr>\n",
       "  </tbody>\n",
       "</table>\n",
       "<p>964 rows × 8 columns</p>\n",
       "</div>"
      ]
     },
     "metadata": {},
     "execution_count": 317
    }
   ],
   "metadata": {}
  },
  {
   "cell_type": "markdown",
   "source": [
    "## Part 8 - estimate CO2 emissions based on features"
   ],
   "metadata": {}
  },
  {
   "cell_type": "markdown",
   "source": [
    "A) for every feature draw a scatter plot which shows the price of vehicles based on its feature"
   ],
   "metadata": {}
  },
  {
   "cell_type": "code",
   "execution_count": 318,
   "source": [
    "import seaborn as sns\n",
    "import matplotlib.pyplot as plt\n",
    "sns.pairplot(df, y_vars=\"CO2EMISSIONS\", x_vars=df.columns.values)"
   ],
   "outputs": [
    {
     "output_type": "execute_result",
     "data": {
      "text/plain": [
       "<seaborn.axisgrid.PairGrid at 0x7f9d210c3640>"
      ]
     },
     "metadata": {},
     "execution_count": 318
    },
    {
     "output_type": "display_data",
     "data": {
      "text/plain": [
       "<Figure size 1440x180 with 9 Axes>"
      ],
      "image/png": "[encoded data removed]"
     },
     "metadata": {
      "needs_background": "light"
     }
    }
   ],
   "metadata": {}
  },
  {
   "cell_type": "markdown",
   "source": [
    "B) Pick a feature that has the highest correlation"
   ],
   "metadata": {}
  },
  {
   "cell_type": "code",
   "execution_count": 319,
   "source": [
    "df.iloc[:, 1:].corr().style.background_gradient(cmap='coolwarm')"
   ],
   "outputs": [
    {
     "output_type": "execute_result",
     "data": {
      "text/plain": [
       "<pandas.io.formats.style.Styler at 0x7f9d20cd14c0>"
      ],
      "text/html": [
       "<style type=\"text/css\">\n",
       "#T_5586d_row0_col0, #T_5586d_row1_col1, #T_5586d_row2_col2, #T_5586d_row2_col4, #T_5586d_row3_col3, #T_5586d_row4_col2, #T_5586d_row4_col4, #T_5586d_row5_col5, #T_5586d_row6_col6 {\n",
       "  background-color: #b40426;\n",
       "  color: #f1f1f1;\n",
       "}\n",
       "#T_5586d_row0_col1, #T_5586d_row1_col0, #T_5586d_row6_col2 {\n",
       "  background-color: #c73635;\n",
       "  color: #f1f1f1;\n",
       "}\n",
       "#T_5586d_row0_col2, #T_5586d_row6_col1 {\n",
       "  background-color: #d55042;\n",
       "  color: #f1f1f1;\n",
       "}\n",
       "#T_5586d_row0_col3, #T_5586d_row1_col4, #T_5586d_row2_col1 {\n",
       "  background-color: #de614d;\n",
       "  color: #f1f1f1;\n",
       "}\n",
       "#T_5586d_row0_col4, #T_5586d_row2_col0 {\n",
       "  background-color: #d75445;\n",
       "  color: #f1f1f1;\n",
       "}\n",
       "#T_5586d_row0_col5 {\n",
       "  background-color: #4f69d9;\n",
       "  color: #f1f1f1;\n",
       "}\n",
       "#T_5586d_row0_col6 {\n",
       "  background-color: #cd423b;\n",
       "  color: #f1f1f1;\n",
       "}\n",
       "#T_5586d_row1_col2 {\n",
       "  background-color: #da5a49;\n",
       "  color: #f1f1f1;\n",
       "}\n",
       "#T_5586d_row1_col3 {\n",
       "  background-color: #e46e56;\n",
       "  color: #f1f1f1;\n",
       "}\n",
       "#T_5586d_row1_col5 {\n",
       "  background-color: #5673e0;\n",
       "  color: #f1f1f1;\n",
       "}\n",
       "#T_5586d_row1_col6 {\n",
       "  background-color: #d24b40;\n",
       "  color: #f1f1f1;\n",
       "}\n",
       "#T_5586d_row2_col3, #T_5586d_row3_col2 {\n",
       "  background-color: #ba162b;\n",
       "  color: #f1f1f1;\n",
       "}\n",
       "#T_5586d_row2_col5, #T_5586d_row5_col0, #T_5586d_row5_col1, #T_5586d_row5_col2, #T_5586d_row5_col3, #T_5586d_row5_col4, #T_5586d_row5_col6 {\n",
       "  background-color: #3b4cc0;\n",
       "  color: #f1f1f1;\n",
       "}\n",
       "#T_5586d_row2_col6, #T_5586d_row4_col6, #T_5586d_row6_col4 {\n",
       "  background-color: #c83836;\n",
       "  color: #f1f1f1;\n",
       "}\n",
       "#T_5586d_row3_col0 {\n",
       "  background-color: #e0654f;\n",
       "  color: #f1f1f1;\n",
       "}\n",
       "#T_5586d_row3_col1 {\n",
       "  background-color: #e7745b;\n",
       "  color: #f1f1f1;\n",
       "}\n",
       "#T_5586d_row3_col4, #T_5586d_row4_col3 {\n",
       "  background-color: #b50927;\n",
       "  color: #f1f1f1;\n",
       "}\n",
       "#T_5586d_row3_col5 {\n",
       "  background-color: #4055c8;\n",
       "  color: #f1f1f1;\n",
       "}\n",
       "#T_5586d_row3_col6, #T_5586d_row6_col0, #T_5586d_row6_col3 {\n",
       "  background-color: #cf453c;\n",
       "  color: #f1f1f1;\n",
       "}\n",
       "#T_5586d_row4_col0 {\n",
       "  background-color: #d95847;\n",
       "  color: #f1f1f1;\n",
       "}\n",
       "#T_5586d_row4_col1 {\n",
       "  background-color: #e16751;\n",
       "  color: #f1f1f1;\n",
       "}\n",
       "#T_5586d_row4_col5 {\n",
       "  background-color: #3c4ec2;\n",
       "  color: #f1f1f1;\n",
       "}\n",
       "#T_5586d_row6_col5 {\n",
       "  background-color: #3e51c5;\n",
       "  color: #f1f1f1;\n",
       "}\n",
       "</style>\n",
       "<table id=\"T_5586d_\">\n",
       "  <thead>\n",
       "    <tr>\n",
       "      <th class=\"blank level0\" >&nbsp;</th>\n",
       "      <th class=\"col_heading level0 col0\" >ENGINESIZE</th>\n",
       "      <th class=\"col_heading level0 col1\" >CYLINDERS</th>\n",
       "      <th class=\"col_heading level0 col2\" >FUELCONSUMPTION_CITY</th>\n",
       "      <th class=\"col_heading level0 col3\" >FUELCONSUMPTION_HWY</th>\n",
       "      <th class=\"col_heading level0 col4\" >FUELCONSUMPTION_COMB</th>\n",
       "      <th class=\"col_heading level0 col5\" >FUELCONSUMPTION_COMB_MPG</th>\n",
       "      <th class=\"col_heading level0 col6\" >CO2EMISSIONS</th>\n",
       "    </tr>\n",
       "  </thead>\n",
       "  <tbody>\n",
       "    <tr>\n",
       "      <th id=\"T_5586d_level0_row0\" class=\"row_heading level0 row0\" >ENGINESIZE</th>\n",
       "      <td id=\"T_5586d_row0_col0\" class=\"data row0 col0\" >1.000000</td>\n",
       "      <td id=\"T_5586d_row0_col1\" class=\"data row0 col1\" >0.907432</td>\n",
       "      <td id=\"T_5586d_row0_col2\" class=\"data row0 col2\" >0.815358</td>\n",
       "      <td id=\"T_5586d_row0_col3\" class=\"data row0 col3\" >0.759536</td>\n",
       "      <td id=\"T_5586d_row0_col4\" class=\"data row0 col4\" >0.801456</td>\n",
       "      <td id=\"T_5586d_row0_col5\" class=\"data row0 col5\" >-0.798851</td>\n",
       "      <td id=\"T_5586d_row0_col6\" class=\"data row0 col6\" >0.859528</td>\n",
       "    </tr>\n",
       "    <tr>\n",
       "      <th id=\"T_5586d_level0_row1\" class=\"row_heading level0 row1\" >CYLINDERS</th>\n",
       "      <td id=\"T_5586d_row1_col0\" class=\"data row1 col0\" >0.907432</td>\n",
       "      <td id=\"T_5586d_row1_col1\" class=\"data row1 col1\" >1.000000</td>\n",
       "      <td id=\"T_5586d_row1_col2\" class=\"data row1 col2\" >0.777965</td>\n",
       "      <td id=\"T_5586d_row1_col3\" class=\"data row1 col3\" >0.706604</td>\n",
       "      <td id=\"T_5586d_row1_col4\" class=\"data row1 col4\" >0.758234</td>\n",
       "      <td id=\"T_5586d_row1_col5\" class=\"data row1 col5\" >-0.756152</td>\n",
       "      <td id=\"T_5586d_row1_col6\" class=\"data row1 col6\" >0.833871</td>\n",
       "    </tr>\n",
       "    <tr>\n",
       "      <th id=\"T_5586d_level0_row2\" class=\"row_heading level0 row2\" >FUELCONSUMPTION_CITY</th>\n",
       "      <td id=\"T_5586d_row2_col0\" class=\"data row2 col0\" >0.815358</td>\n",
       "      <td id=\"T_5586d_row2_col1\" class=\"data row2 col1\" >0.777965</td>\n",
       "      <td id=\"T_5586d_row2_col2\" class=\"data row2 col2\" >1.000000</td>\n",
       "      <td id=\"T_5586d_row2_col3\" class=\"data row2 col3\" >0.966171</td>\n",
       "      <td id=\"T_5586d_row2_col4\" class=\"data row2 col4\" >0.995588</td>\n",
       "      <td id=\"T_5586d_row2_col5\" class=\"data row2 col5\" >-0.934495</td>\n",
       "      <td id=\"T_5586d_row2_col6\" class=\"data row2 col6\" >0.894860</td>\n",
       "    </tr>\n",
       "    <tr>\n",
       "      <th id=\"T_5586d_level0_row3\" class=\"row_heading level0 row3\" >FUELCONSUMPTION_HWY</th>\n",
       "      <td id=\"T_5586d_row3_col0\" class=\"data row3 col0\" >0.759536</td>\n",
       "      <td id=\"T_5586d_row3_col1\" class=\"data row3 col1\" >0.706604</td>\n",
       "      <td id=\"T_5586d_row3_col2\" class=\"data row3 col2\" >0.966171</td>\n",
       "      <td id=\"T_5586d_row3_col3\" class=\"data row3 col3\" >1.000000</td>\n",
       "      <td id=\"T_5586d_row3_col4\" class=\"data row3 col4\" >0.986018</td>\n",
       "      <td id=\"T_5586d_row3_col5\" class=\"data row3 col5\" >-0.892341</td>\n",
       "      <td id=\"T_5586d_row3_col6\" class=\"data row3 col6\" >0.858261</td>\n",
       "    </tr>\n",
       "    <tr>\n",
       "      <th id=\"T_5586d_level0_row4\" class=\"row_heading level0 row4\" >FUELCONSUMPTION_COMB</th>\n",
       "      <td id=\"T_5586d_row4_col0\" class=\"data row4 col0\" >0.801456</td>\n",
       "      <td id=\"T_5586d_row4_col1\" class=\"data row4 col1\" >0.758234</td>\n",
       "      <td id=\"T_5586d_row4_col2\" class=\"data row4 col2\" >0.995588</td>\n",
       "      <td id=\"T_5586d_row4_col3\" class=\"data row4 col3\" >0.986018</td>\n",
       "      <td id=\"T_5586d_row4_col4\" class=\"data row4 col4\" >1.000000</td>\n",
       "      <td id=\"T_5586d_row4_col5\" class=\"data row4 col5\" >-0.926608</td>\n",
       "      <td id=\"T_5586d_row4_col6\" class=\"data row4 col6\" >0.888687</td>\n",
       "    </tr>\n",
       "    <tr>\n",
       "      <th id=\"T_5586d_level0_row5\" class=\"row_heading level0 row5\" >FUELCONSUMPTION_COMB_MPG</th>\n",
       "      <td id=\"T_5586d_row5_col0\" class=\"data row5 col0\" >-0.798851</td>\n",
       "      <td id=\"T_5586d_row5_col1\" class=\"data row5 col1\" >-0.756152</td>\n",
       "      <td id=\"T_5586d_row5_col2\" class=\"data row5 col2\" >-0.934495</td>\n",
       "      <td id=\"T_5586d_row5_col3\" class=\"data row5 col3\" >-0.892341</td>\n",
       "      <td id=\"T_5586d_row5_col4\" class=\"data row5 col4\" >-0.926608</td>\n",
       "      <td id=\"T_5586d_row5_col5\" class=\"data row5 col5\" >1.000000</td>\n",
       "      <td id=\"T_5586d_row5_col6\" class=\"data row5 col6\" >-0.905606</td>\n",
       "    </tr>\n",
       "    <tr>\n",
       "      <th id=\"T_5586d_level0_row6\" class=\"row_heading level0 row6\" >CO2EMISSIONS</th>\n",
       "      <td id=\"T_5586d_row6_col0\" class=\"data row6 col0\" >0.859528</td>\n",
       "      <td id=\"T_5586d_row6_col1\" class=\"data row6 col1\" >0.833871</td>\n",
       "      <td id=\"T_5586d_row6_col2\" class=\"data row6 col2\" >0.894860</td>\n",
       "      <td id=\"T_5586d_row6_col3\" class=\"data row6 col3\" >0.858261</td>\n",
       "      <td id=\"T_5586d_row6_col4\" class=\"data row6 col4\" >0.888687</td>\n",
       "      <td id=\"T_5586d_row6_col5\" class=\"data row6 col5\" >-0.905606</td>\n",
       "      <td id=\"T_5586d_row6_col6\" class=\"data row6 col6\" >1.000000</td>\n",
       "    </tr>\n",
       "  </tbody>\n",
       "</table>\n"
      ]
     },
     "metadata": {},
     "execution_count": 319
    }
   ],
   "metadata": {}
  },
  {
   "cell_type": "markdown",
   "source": [
    "based on chart above, we see that FUELCONSUMPTION_COMB has the second highest correlation among others <br>\n",
    "on the other hand it has the most linear distribution. the FUEL CONSUMPTION COMB MPG has better correlation but the curve it has makes that unsutable as we are trying to do a simple order 1 linear regression."
   ],
   "metadata": {}
  },
  {
   "cell_type": "markdown",
   "source": [
    "## Part 9, 10, 11 - Training"
   ],
   "metadata": {}
  },
  {
   "cell_type": "markdown",
   "source": [
    "Making new dataframe with FUELCONSUMPTION_COMB and CO2 EMISSIONS"
   ],
   "metadata": {}
  },
  {
   "cell_type": "code",
   "execution_count": 320,
   "source": [
    "df2 = df[['FUELCONSUMPTION_COMB', 'CO2EMISSIONS']]\n",
    "X = df2.iloc[:, 0].values\n",
    "Y = df2.iloc[:, 1].values\n",
    "df2"
   ],
   "outputs": [
    {
     "output_type": "execute_result",
     "data": {
      "text/plain": [
       "      FUELCONSUMPTION_COMB  CO2EMISSIONS\n",
       "0                -0.888216     -0.960111\n",
       "1                -0.576247     -0.564949\n",
       "2                -1.625596     -1.908498\n",
       "4                -0.292640     -0.201401\n",
       "5                -0.462804     -0.422691\n",
       "...                    ...           ...\n",
       "1062              0.047690      0.225373\n",
       "1063             -0.037393      0.114728\n",
       "1064              0.047690      0.225373\n",
       "1065             -0.094114      0.051502\n",
       "1066              0.331297      0.588921\n",
       "\n",
       "[964 rows x 2 columns]"
      ],
      "text/html": [
       "<div>\n",
       "<style scoped>\n",
       "    .dataframe tbody tr th:only-of-type {\n",
       "        vertical-align: middle;\n",
       "    }\n",
       "\n",
       "    .dataframe tbody tr th {\n",
       "        vertical-align: top;\n",
       "    }\n",
       "\n",
       "    .dataframe thead th {\n",
       "        text-align: right;\n",
       "    }\n",
       "</style>\n",
       "<table border=\"1\" class=\"dataframe\">\n",
       "  <thead>\n",
       "    <tr style=\"text-align: right;\">\n",
       "      <th></th>\n",
       "      <th>FUELCONSUMPTION_COMB</th>\n",
       "      <th>CO2EMISSIONS</th>\n",
       "    </tr>\n",
       "  </thead>\n",
       "  <tbody>\n",
       "    <tr>\n",
       "      <th>0</th>\n",
       "      <td>-0.888216</td>\n",
       "      <td>-0.960111</td>\n",
       "    </tr>\n",
       "    <tr>\n",
       "      <th>1</th>\n",
       "      <td>-0.576247</td>\n",
       "      <td>-0.564949</td>\n",
       "    </tr>\n",
       "    <tr>\n",
       "      <th>2</th>\n",
       "      <td>-1.625596</td>\n",
       "      <td>-1.908498</td>\n",
       "    </tr>\n",
       "    <tr>\n",
       "      <th>4</th>\n",
       "      <td>-0.292640</td>\n",
       "      <td>-0.201401</td>\n",
       "    </tr>\n",
       "    <tr>\n",
       "      <th>5</th>\n",
       "      <td>-0.462804</td>\n",
       "      <td>-0.422691</td>\n",
       "    </tr>\n",
       "    <tr>\n",
       "      <th>...</th>\n",
       "      <td>...</td>\n",
       "      <td>...</td>\n",
       "    </tr>\n",
       "    <tr>\n",
       "      <th>1062</th>\n",
       "      <td>0.047690</td>\n",
       "      <td>0.225373</td>\n",
       "    </tr>\n",
       "    <tr>\n",
       "      <th>1063</th>\n",
       "      <td>-0.037393</td>\n",
       "      <td>0.114728</td>\n",
       "    </tr>\n",
       "    <tr>\n",
       "      <th>1064</th>\n",
       "      <td>0.047690</td>\n",
       "      <td>0.225373</td>\n",
       "    </tr>\n",
       "    <tr>\n",
       "      <th>1065</th>\n",
       "      <td>-0.094114</td>\n",
       "      <td>0.051502</td>\n",
       "    </tr>\n",
       "    <tr>\n",
       "      <th>1066</th>\n",
       "      <td>0.331297</td>\n",
       "      <td>0.588921</td>\n",
       "    </tr>\n",
       "  </tbody>\n",
       "</table>\n",
       "<p>964 rows × 2 columns</p>\n",
       "</div>"
      ]
     },
     "metadata": {},
     "execution_count": 320
    }
   ],
   "metadata": {}
  },
  {
   "cell_type": "markdown",
   "source": [
    "Plotting the target value based on desired feature"
   ],
   "metadata": {}
  },
  {
   "cell_type": "code",
   "execution_count": 321,
   "source": [
    "plt.scatter(X, Y)\n",
    "plt.xlabel('FUELCONSUMPTION_COMB')\n",
    "plt.ylabel('CO2 EMISSIONS')"
   ],
   "outputs": [
    {
     "output_type": "execute_result",
     "data": {
      "text/plain": [
       "Text(0, 0.5, 'CO2 EMISSIONS')"
      ]
     },
     "metadata": {},
     "execution_count": 321
    },
    {
     "output_type": "display_data",
     "data": {
      "text/plain": [
       "<Figure size 432x288 with 1 Axes>"
      ],
      "image/png": "[encoded data removed]"
     },
     "metadata": {
      "needs_background": "light"
     }
    }
   ],
   "metadata": {}
  },
  {
   "cell_type": "markdown",
   "source": [
    "### Gradiant Decent\n",
    "We use gradiant decent to determine the optimal theta 1 & 0 values <br>\n",
    "function below is our Hypothesis function."
   ],
   "metadata": {}
  },
  {
   "cell_type": "markdown",
   "source": [
    "$$ \\bar{y}(x) = \\theta_1 \\times X + \\theta_0 $$"
   ],
   "metadata": {}
  },
  {
   "cell_type": "markdown",
   "source": [
    "we introduce the Mean Square Error function below <br>\n",
    "$$ MSE = \\frac{1}{N} \\sum_{i=1} (y_i - \\bar{y}_\\theta(x))^2 $$ "
   ],
   "metadata": {}
  },
  {
   "cell_type": "markdown",
   "source": [
    "we rewrite the MSE function with respect to hypothesis function\n",
    "$$ MSE = \\frac{1}{N} \\sum_{i=1} (y_i - (\\theta_1 X + \\theta_0))^2 $$"
   ],
   "metadata": {}
  },
  {
   "cell_type": "markdown",
   "source": [
    "we calculate the partial derivative of this function with respect to  $ \\theta_1 $ and $ \\theta_0 $\n",
    "$$ D_{\\theta_1} = \\frac{-2}{n} \\sum_{0}^{n}x_i(y_i - \\bar{y}_i) $$\n",
    "$$ D_{\\theta_0} = \\frac{-2}{n} \\sum_{0}^{n}(y_i - \\bar{y}_i) $$"
   ],
   "metadata": {}
  },
  {
   "cell_type": "markdown",
   "source": [
    "finally we update the theta 1 & 0 values like so:\n",
    "$$ \\theta_1 = \\theta_1 - \\alpha \\times D_{\\theta_1} $$\n",
    "$$ \\theta_0 = \\theta_0 - \\alpha \\times D_{\\theta_0} $$"
   ],
   "metadata": {}
  },
  {
   "cell_type": "markdown",
   "source": [
    "Note that alpha is our learning rate"
   ],
   "metadata": {}
  },
  {
   "cell_type": "markdown",
   "source": [
    "We implement the procedure discussed above in the code below"
   ],
   "metadata": {}
  },
  {
   "cell_type": "code",
   "execution_count": 322,
   "source": [
    "theta1, theta0 = 0, 0\n",
    "\n",
    "alpha = 0.0001\n",
    "iteration_num = 10000  \n",
    "\n",
    "n = float(len(X)) \n",
    "\n",
    "# Performing Gradient Descent \n",
    "for i in range(iteration_num): \n",
    "    Y_pred = theta1*X + theta0  \n",
    "    D_theta1 = (-2/n) * sum(X * (Y - Y_pred))  \n",
    "    D_theta0 = (-2/n) * sum(Y - Y_pred) \n",
    "    theta1 = theta1 - alpha * D_theta1  \n",
    "    theta0 = theta0 - alpha * D_theta0  \n",
    "    \n",
    "print (theta1, theta0)"
   ],
   "outputs": [
    {
     "output_type": "stream",
     "name": "stdout",
     "text": [
      "0.7681906535985425 2.232089455636895e-16\n"
     ]
    }
   ],
   "metadata": {}
  },
  {
   "cell_type": "code",
   "execution_count": 323,
   "source": [
    "Y_pred = theta1*X + theta0\n",
    "\n",
    "plt.scatter(X, Y) \n",
    "plt.plot(X, Y_pred, color='red', label='prediction')  \n",
    "plt.xlabel('FUELCONSUMPTION_COMB')\n",
    "plt.ylabel('CO2 EMISSIONS')\n",
    "plt.legend(loc=\"lower right\")\n",
    "plt.show()"
   ],
   "outputs": [
    {
     "output_type": "display_data",
     "data": {
      "text/plain": [
       "<Figure size 432x288 with 1 Axes>"
      ],
      "image/png": "[encoded data removed]"
     },
     "metadata": {
      "needs_background": "light"
     }
    }
   ],
   "metadata": {}
  },
  {
   "cell_type": "markdown",
   "source": [
    "The red line represents our regression prediction which is close to our initial data. We calculate the MSE of that to ensure it's good enough."
   ],
   "metadata": {}
  },
  {
   "cell_type": "markdown",
   "source": [
    "Here we calculate Mean Square Error with given formula"
   ],
   "metadata": {}
  },
  {
   "cell_type": "markdown",
   "source": [
    "$$ MSE = \\frac{1}{N} \\sum_{i=1} (y_i - \\bar{y}_\\theta(x))^2 $$"
   ],
   "metadata": {}
  },
  {
   "cell_type": "code",
   "execution_count": 324,
   "source": [
    "MSE = np.square(np.subtract(Y,Y_pred)).mean()\n",
    "MSE "
   ],
   "outputs": [
    {
     "output_type": "execute_result",
     "data": {
      "text/plain": [
       "0.22452147966569258"
      ]
     },
     "metadata": {},
     "execution_count": 324
    }
   ],
   "metadata": {}
  },
  {
   "cell_type": "markdown",
   "source": [
    "It's under 0.5 so it's good enough"
   ],
   "metadata": {}
  },
  {
   "cell_type": "markdown",
   "source": [
    "## Part 12 - Prediction"
   ],
   "metadata": {}
  },
  {
   "cell_type": "markdown",
   "source": [
    "Let's first check the dataframe with target NaN once again"
   ],
   "metadata": {}
  },
  {
   "cell_type": "code",
   "execution_count": 325,
   "source": [
    "df_with_target_nan"
   ],
   "outputs": [
    {
     "output_type": "execute_result",
     "data": {
      "text/plain": [
       "      MODELYEAR        MAKE                MODEL    VEHICLECLASS  ENGINESIZE  \\\n",
       "3          2014       ACURA              MDX 4WD     SUV - SMALL         3.5   \n",
       "20         2014        AUDI           A4 QUATTRO         COMPACT         2.0   \n",
       "30         2014        AUDI                   A8        MID-SIZE         3.0   \n",
       "42         2014        AUDI                   Q7  SUV - STANDARD         3.0   \n",
       "43         2014        AUDI  Q7 TDI CLEAN DIESEL  SUV - STANDARD         3.0   \n",
       "...         ...         ...                  ...             ...         ...   \n",
       "1022       2014  VOLKSWAGEN   BEETLE CONVERTIBLE      SUBCOMPACT         2.0   \n",
       "1027       2014  VOLKSWAGEN                   CC         COMPACT         2.0   \n",
       "1051       2014  VOLKSWAGEN               TIGUAN     SUV - SMALL         2.0   \n",
       "1052       2014  VOLKSWAGEN               TIGUAN     SUV - SMALL         2.0   \n",
       "1053       2014  VOLKSWAGEN       TIGUAN 4MOTION     SUV - SMALL         2.0   \n",
       "\n",
       "      CYLINDERS TRANSMISSION  FUELTYPE  FUELCONSUMPTION_CITY  \\\n",
       "3           6.0          AS6       3.0                  12.7   \n",
       "20          4.0          AS8       3.0                  11.5   \n",
       "30          6.0          AS8       NaN                  13.1   \n",
       "42          NaN          AS8       3.0                  15.1   \n",
       "43          6.0          AS8       2.0                  12.9   \n",
       "...         ...          ...       ...                   ...   \n",
       "1022        4.0           M6       3.0                  10.8   \n",
       "1027        4.0           M6       3.0                  11.6   \n",
       "1051        4.0           A6       3.0                  11.7   \n",
       "1052        4.0           M6       3.0                  13.6   \n",
       "1053        4.0           A6       3.0                  11.7   \n",
       "\n",
       "      FUELCONSUMPTION_HWY  FUELCONSUMPTION_COMB  FUELCONSUMPTION_COMB_MPG  \\\n",
       "3                     9.1                  11.1                        25   \n",
       "20                    8.1                  10.0                        28   \n",
       "30                    8.8                  11.2                        25   \n",
       "42                   10.9                  13.2                        21   \n",
       "43                    8.4                  10.9                        26   \n",
       "...                   ...                   ...                       ...   \n",
       "1022                  7.6                   9.4                        30   \n",
       "1027                  7.7                   9.8                        29   \n",
       "1051                  9.5                  10.7                        26   \n",
       "1052                  9.2                  11.6                        24   \n",
       "1053                  9.4                  10.7                        26   \n",
       "\n",
       "      CO2EMISSIONS  \n",
       "3              NaN  \n",
       "20             NaN  \n",
       "30             NaN  \n",
       "42             NaN  \n",
       "43             NaN  \n",
       "...            ...  \n",
       "1022           NaN  \n",
       "1027           NaN  \n",
       "1051           NaN  \n",
       "1052           NaN  \n",
       "1053           NaN  \n",
       "\n",
       "[103 rows x 13 columns]"
      ],
      "text/html": [
       "<div>\n",
       "<style scoped>\n",
       "    .dataframe tbody tr th:only-of-type {\n",
       "        vertical-align: middle;\n",
       "    }\n",
       "\n",
       "    .dataframe tbody tr th {\n",
       "        vertical-align: top;\n",
       "    }\n",
       "\n",
       "    .dataframe thead th {\n",
       "        text-align: right;\n",
       "    }\n",
       "</style>\n",
       "<table border=\"1\" class=\"dataframe\">\n",
       "  <thead>\n",
       "    <tr style=\"text-align: right;\">\n",
       "      <th></th>\n",
       "      <th>MODELYEAR</th>\n",
       "      <th>MAKE</th>\n",
       "      <th>MODEL</th>\n",
       "      <th>VEHICLECLASS</th>\n",
       "      <th>ENGINESIZE</th>\n",
       "      <th>CYLINDERS</th>\n",
       "      <th>TRANSMISSION</th>\n",
       "      <th>FUELTYPE</th>\n",
       "      <th>FUELCONSUMPTION_CITY</th>\n",
       "      <th>FUELCONSUMPTION_HWY</th>\n",
       "      <th>FUELCONSUMPTION_COMB</th>\n",
       "      <th>FUELCONSUMPTION_COMB_MPG</th>\n",
       "      <th>CO2EMISSIONS</th>\n",
       "    </tr>\n",
       "  </thead>\n",
       "  <tbody>\n",
       "    <tr>\n",
       "      <th>3</th>\n",
       "      <td>2014</td>\n",
       "      <td>ACURA</td>\n",
       "      <td>MDX 4WD</td>\n",
       "      <td>SUV - SMALL</td>\n",
       "      <td>3.5</td>\n",
       "      <td>6.0</td>\n",
       "      <td>AS6</td>\n",
       "      <td>3.0</td>\n",
       "      <td>12.7</td>\n",
       "      <td>9.1</td>\n",
       "      <td>11.1</td>\n",
       "      <td>25</td>\n",
       "      <td>NaN</td>\n",
       "    </tr>\n",
       "    <tr>\n",
       "      <th>20</th>\n",
       "      <td>2014</td>\n",
       "      <td>AUDI</td>\n",
       "      <td>A4 QUATTRO</td>\n",
       "      <td>COMPACT</td>\n",
       "      <td>2.0</td>\n",
       "      <td>4.0</td>\n",
       "      <td>AS8</td>\n",
       "      <td>3.0</td>\n",
       "      <td>11.5</td>\n",
       "      <td>8.1</td>\n",
       "      <td>10.0</td>\n",
       "      <td>28</td>\n",
       "      <td>NaN</td>\n",
       "    </tr>\n",
       "    <tr>\n",
       "      <th>30</th>\n",
       "      <td>2014</td>\n",
       "      <td>AUDI</td>\n",
       "      <td>A8</td>\n",
       "      <td>MID-SIZE</td>\n",
       "      <td>3.0</td>\n",
       "      <td>6.0</td>\n",
       "      <td>AS8</td>\n",
       "      <td>NaN</td>\n",
       "      <td>13.1</td>\n",
       "      <td>8.8</td>\n",
       "      <td>11.2</td>\n",
       "      <td>25</td>\n",
       "      <td>NaN</td>\n",
       "    </tr>\n",
       "    <tr>\n",
       "      <th>42</th>\n",
       "      <td>2014</td>\n",
       "      <td>AUDI</td>\n",
       "      <td>Q7</td>\n",
       "      <td>SUV - STANDARD</td>\n",
       "      <td>3.0</td>\n",
       "      <td>NaN</td>\n",
       "      <td>AS8</td>\n",
       "      <td>3.0</td>\n",
       "      <td>15.1</td>\n",
       "      <td>10.9</td>\n",
       "      <td>13.2</td>\n",
       "      <td>21</td>\n",
       "      <td>NaN</td>\n",
       "    </tr>\n",
       "    <tr>\n",
       "      <th>43</th>\n",
       "      <td>2014</td>\n",
       "      <td>AUDI</td>\n",
       "      <td>Q7 TDI CLEAN DIESEL</td>\n",
       "      <td>SUV - STANDARD</td>\n",
       "      <td>3.0</td>\n",
       "      <td>6.0</td>\n",
       "      <td>AS8</td>\n",
       "      <td>2.0</td>\n",
       "      <td>12.9</td>\n",
       "      <td>8.4</td>\n",
       "      <td>10.9</td>\n",
       "      <td>26</td>\n",
       "      <td>NaN</td>\n",
       "    </tr>\n",
       "    <tr>\n",
       "      <th>...</th>\n",
       "      <td>...</td>\n",
       "      <td>...</td>\n",
       "      <td>...</td>\n",
       "      <td>...</td>\n",
       "      <td>...</td>\n",
       "      <td>...</td>\n",
       "      <td>...</td>\n",
       "      <td>...</td>\n",
       "      <td>...</td>\n",
       "      <td>...</td>\n",
       "      <td>...</td>\n",
       "      <td>...</td>\n",
       "      <td>...</td>\n",
       "    </tr>\n",
       "    <tr>\n",
       "      <th>1022</th>\n",
       "      <td>2014</td>\n",
       "      <td>VOLKSWAGEN</td>\n",
       "      <td>BEETLE CONVERTIBLE</td>\n",
       "      <td>SUBCOMPACT</td>\n",
       "      <td>2.0</td>\n",
       "      <td>4.0</td>\n",
       "      <td>M6</td>\n",
       "      <td>3.0</td>\n",
       "      <td>10.8</td>\n",
       "      <td>7.6</td>\n",
       "      <td>9.4</td>\n",
       "      <td>30</td>\n",
       "      <td>NaN</td>\n",
       "    </tr>\n",
       "    <tr>\n",
       "      <th>1027</th>\n",
       "      <td>2014</td>\n",
       "      <td>VOLKSWAGEN</td>\n",
       "      <td>CC</td>\n",
       "      <td>COMPACT</td>\n",
       "      <td>2.0</td>\n",
       "      <td>4.0</td>\n",
       "      <td>M6</td>\n",
       "      <td>3.0</td>\n",
       "      <td>11.6</td>\n",
       "      <td>7.7</td>\n",
       "      <td>9.8</td>\n",
       "      <td>29</td>\n",
       "      <td>NaN</td>\n",
       "    </tr>\n",
       "    <tr>\n",
       "      <th>1051</th>\n",
       "      <td>2014</td>\n",
       "      <td>VOLKSWAGEN</td>\n",
       "      <td>TIGUAN</td>\n",
       "      <td>SUV - SMALL</td>\n",
       "      <td>2.0</td>\n",
       "      <td>4.0</td>\n",
       "      <td>A6</td>\n",
       "      <td>3.0</td>\n",
       "      <td>11.7</td>\n",
       "      <td>9.5</td>\n",
       "      <td>10.7</td>\n",
       "      <td>26</td>\n",
       "      <td>NaN</td>\n",
       "    </tr>\n",
       "    <tr>\n",
       "      <th>1052</th>\n",
       "      <td>2014</td>\n",
       "      <td>VOLKSWAGEN</td>\n",
       "      <td>TIGUAN</td>\n",
       "      <td>SUV - SMALL</td>\n",
       "      <td>2.0</td>\n",
       "      <td>4.0</td>\n",
       "      <td>M6</td>\n",
       "      <td>3.0</td>\n",
       "      <td>13.6</td>\n",
       "      <td>9.2</td>\n",
       "      <td>11.6</td>\n",
       "      <td>24</td>\n",
       "      <td>NaN</td>\n",
       "    </tr>\n",
       "    <tr>\n",
       "      <th>1053</th>\n",
       "      <td>2014</td>\n",
       "      <td>VOLKSWAGEN</td>\n",
       "      <td>TIGUAN 4MOTION</td>\n",
       "      <td>SUV - SMALL</td>\n",
       "      <td>2.0</td>\n",
       "      <td>4.0</td>\n",
       "      <td>A6</td>\n",
       "      <td>3.0</td>\n",
       "      <td>11.7</td>\n",
       "      <td>9.4</td>\n",
       "      <td>10.7</td>\n",
       "      <td>26</td>\n",
       "      <td>NaN</td>\n",
       "    </tr>\n",
       "  </tbody>\n",
       "</table>\n",
       "<p>103 rows × 13 columns</p>\n",
       "</div>"
      ]
     },
     "metadata": {},
     "execution_count": 325
    }
   ],
   "metadata": {}
  },
  {
   "cell_type": "markdown",
   "source": [
    "Predict values with calculated thetas"
   ],
   "metadata": {}
  },
  {
   "cell_type": "code",
   "execution_count": 331,
   "source": [
    "pd.set_option('mode.chained_assignment', None)\n",
    "fuel = df_with_target_nan.loc[:, 'FUELCONSUMPTION_COMB']\n",
    "fuel = (fuel-fuel.mean())/fuel.std() # Normalize data\n",
    "\n",
    "df_with_target_nan.loc[:, 'CO2EMISSIONS'] = theta1 * fuel + theta0\n",
    "x = df_with_target_nan.loc[:, 'CO2EMISSIONS']\n",
    "\n",
    "# Denormalize data using prior factors\n",
    "x = prior_factors['CO2EMISSIONS'][1] * x + prior_factors['CO2EMISSIONS'][0] \n",
    "\n",
    "pd.DataFrame(x).to_csv('Predicted_Result.csv')\n",
    "pd.DataFrame(x)"
   ],
   "outputs": [
    {
     "output_type": "execute_result",
     "data": {
      "text/plain": [
       "      CO2EMISSIONS\n",
       "3       256.679943\n",
       "20      239.186981\n",
       "30      258.270213\n",
       "42      290.075599\n",
       "43      253.499405\n",
       "...            ...\n",
       "1022    229.645365\n",
       "1027    236.006442\n",
       "1051    250.318866\n",
       "1052    264.631290\n",
       "1053    250.318866\n",
       "\n",
       "[103 rows x 1 columns]"
      ],
      "text/html": [
       "<div>\n",
       "<style scoped>\n",
       "    .dataframe tbody tr th:only-of-type {\n",
       "        vertical-align: middle;\n",
       "    }\n",
       "\n",
       "    .dataframe tbody tr th {\n",
       "        vertical-align: top;\n",
       "    }\n",
       "\n",
       "    .dataframe thead th {\n",
       "        text-align: right;\n",
       "    }\n",
       "</style>\n",
       "<table border=\"1\" class=\"dataframe\">\n",
       "  <thead>\n",
       "    <tr style=\"text-align: right;\">\n",
       "      <th></th>\n",
       "      <th>CO2EMISSIONS</th>\n",
       "    </tr>\n",
       "  </thead>\n",
       "  <tbody>\n",
       "    <tr>\n",
       "      <th>3</th>\n",
       "      <td>256.679943</td>\n",
       "    </tr>\n",
       "    <tr>\n",
       "      <th>20</th>\n",
       "      <td>239.186981</td>\n",
       "    </tr>\n",
       "    <tr>\n",
       "      <th>30</th>\n",
       "      <td>258.270213</td>\n",
       "    </tr>\n",
       "    <tr>\n",
       "      <th>42</th>\n",
       "      <td>290.075599</td>\n",
       "    </tr>\n",
       "    <tr>\n",
       "      <th>43</th>\n",
       "      <td>253.499405</td>\n",
       "    </tr>\n",
       "    <tr>\n",
       "      <th>...</th>\n",
       "      <td>...</td>\n",
       "    </tr>\n",
       "    <tr>\n",
       "      <th>1022</th>\n",
       "      <td>229.645365</td>\n",
       "    </tr>\n",
       "    <tr>\n",
       "      <th>1027</th>\n",
       "      <td>236.006442</td>\n",
       "    </tr>\n",
       "    <tr>\n",
       "      <th>1051</th>\n",
       "      <td>250.318866</td>\n",
       "    </tr>\n",
       "    <tr>\n",
       "      <th>1052</th>\n",
       "      <td>264.631290</td>\n",
       "    </tr>\n",
       "    <tr>\n",
       "      <th>1053</th>\n",
       "      <td>250.318866</td>\n",
       "    </tr>\n",
       "  </tbody>\n",
       "</table>\n",
       "<p>103 rows × 1 columns</p>\n",
       "</div>"
      ]
     },
     "metadata": {},
     "execution_count": 331
    }
   ],
   "metadata": {}
  }
 ],
 "metadata": {
  "orig_nbformat": 4,
  "language_info": {
   "name": "python",
   "version": "3.9.5",
   "mimetype": "text/x-python",
   "codemirror_mode": {
    "name": "ipython",
    "version": 3
   },
   "pygments_lexer": "ipython3",
   "nbconvert_exporter": "python",
   "file_extension": ".py"
  },
  "kernelspec": {
   "name": "python3",
   "display_name": "Python 3.9.5 64-bit"
  },
  "interpreter": {
   "hash": "916dbcbb3f70747c44a77c7bcd40155683ae19c65e1c03b4aa3499c5328201f1"
  }
 },
 "nbformat": 4,
 "nbformat_minor": 2
}